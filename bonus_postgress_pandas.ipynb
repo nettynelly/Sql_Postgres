{
 "cells": [
  {
   "cell_type": "code",
   "execution_count": 6,
   "metadata": {},
   "outputs": [],
   "source": [
    "import psycopg2 as pg\n",
    "import pandas.io.sql as psql\n",
    "import pandas as pd\n",
    "from sqlalchemy import create_engine\n",
    "import matplotlib.pyplot as plt\n",
    "import numpy as np"
   ]
  },
  {
   "cell_type": "code",
   "execution_count": 7,
   "metadata": {},
   "outputs": [],
   "source": [
    "\n",
    "# get connected to the database\n",
    "connection = pg.connect(\"dbname=Employee_db user=postgres password=!holySpirit78\")\n"
   ]
  },
  {
   "cell_type": "markdown",
   "metadata": {},
   "source": [
    "****Created a fact table to be  the  center  of all the foreign  keys to  capture a single  version of truth of  data.***"
   ]
  },
  {
   "cell_type": "code",
   "execution_count": 8,
   "metadata": {},
   "outputs": [
    {
     "data": {
      "text/html": [
       "<div>\n",
       "<style scoped>\n",
       "    .dataframe tbody tr th:only-of-type {\n",
       "        vertical-align: middle;\n",
       "    }\n",
       "\n",
       "    .dataframe tbody tr th {\n",
       "        vertical-align: top;\n",
       "    }\n",
       "\n",
       "    .dataframe thead th {\n",
       "        text-align: right;\n",
       "    }\n",
       "</style>\n",
       "<table border=\"1\" class=\"dataframe\">\n",
       "  <thead>\n",
       "    <tr style=\"text-align: right;\">\n",
       "      <th></th>\n",
       "      <th>emp_no</th>\n",
       "      <th>dept_no</th>\n",
       "      <th>title_id</th>\n",
       "      <th>salary_ID</th>\n",
       "      <th>title</th>\n",
       "      <th>salary</th>\n",
       "      <th>title_from_date</th>\n",
       "      <th>title_to_date</th>\n",
       "      <th>salary_from_date</th>\n",
       "      <th>salary_to_date</th>\n",
       "    </tr>\n",
       "  </thead>\n",
       "  <tbody>\n",
       "    <tr>\n",
       "      <th>0</th>\n",
       "      <td>10001</td>\n",
       "      <td>d005</td>\n",
       "      <td>1</td>\n",
       "      <td>300024</td>\n",
       "      <td>Senior Engineer</td>\n",
       "      <td>60117.0</td>\n",
       "      <td>1986-06-26</td>\n",
       "      <td>9999-01-01</td>\n",
       "      <td>1986-06-26</td>\n",
       "      <td>1987-06-26</td>\n",
       "    </tr>\n",
       "    <tr>\n",
       "      <th>1</th>\n",
       "      <td>10002</td>\n",
       "      <td>d007</td>\n",
       "      <td>2</td>\n",
       "      <td>300025</td>\n",
       "      <td>Staff</td>\n",
       "      <td>65828.0</td>\n",
       "      <td>1996-08-03</td>\n",
       "      <td>9999-01-01</td>\n",
       "      <td>1996-08-03</td>\n",
       "      <td>1997-08-03</td>\n",
       "    </tr>\n",
       "    <tr>\n",
       "      <th>2</th>\n",
       "      <td>10003</td>\n",
       "      <td>d004</td>\n",
       "      <td>1</td>\n",
       "      <td>300026</td>\n",
       "      <td>Senior Engineer</td>\n",
       "      <td>40006.0</td>\n",
       "      <td>1995-12-03</td>\n",
       "      <td>9999-01-01</td>\n",
       "      <td>1995-12-03</td>\n",
       "      <td>1996-12-02</td>\n",
       "    </tr>\n",
       "    <tr>\n",
       "      <th>3</th>\n",
       "      <td>10004</td>\n",
       "      <td>d004</td>\n",
       "      <td>3</td>\n",
       "      <td>300027</td>\n",
       "      <td>Engineer</td>\n",
       "      <td>40054.0</td>\n",
       "      <td>1986-12-01</td>\n",
       "      <td>1995-12-01</td>\n",
       "      <td>1986-12-01</td>\n",
       "      <td>1987-12-01</td>\n",
       "    </tr>\n",
       "    <tr>\n",
       "      <th>4</th>\n",
       "      <td>10004</td>\n",
       "      <td>d004</td>\n",
       "      <td>1</td>\n",
       "      <td>300027</td>\n",
       "      <td>Senior Engineer</td>\n",
       "      <td>40054.0</td>\n",
       "      <td>1995-12-01</td>\n",
       "      <td>9999-01-01</td>\n",
       "      <td>1986-12-01</td>\n",
       "      <td>1987-12-01</td>\n",
       "    </tr>\n",
       "  </tbody>\n",
       "</table>\n",
       "</div>"
      ],
      "text/plain": [
       "   emp_no dept_no  title_id salary_ID            title   salary  \\\n",
       "0   10001    d005         1    300024  Senior Engineer  60117.0   \n",
       "1   10002    d007         2    300025            Staff  65828.0   \n",
       "2   10003    d004         1    300026  Senior Engineer  40006.0   \n",
       "3   10004    d004         3    300027         Engineer  40054.0   \n",
       "4   10004    d004         1    300027  Senior Engineer  40054.0   \n",
       "\n",
       "  title_from_date title_to_date salary_from_date salary_to_date  \n",
       "0      1986-06-26    9999-01-01       1986-06-26     1987-06-26  \n",
       "1      1996-08-03    9999-01-01       1996-08-03     1997-08-03  \n",
       "2      1995-12-03    9999-01-01       1995-12-03     1996-12-02  \n",
       "3      1986-12-01    1995-12-01       1986-12-01     1987-12-01  \n",
       "4      1995-12-01    9999-01-01       1986-12-01     1987-12-01  "
      ]
     },
     "execution_count": 8,
     "metadata": {},
     "output_type": "execute_result"
    }
   ],
   "source": [
    " \n",
    "data_salaries_ave_df= pd.read_sql(\"SELECT * FROM fact_employee\", connection)\n",
    "data_salaries_ave_df.head()\n"
   ]
  },
  {
   "cell_type": "code",
   "execution_count": 10,
   "metadata": {},
   "outputs": [
    {
     "data": {
      "text/plain": [
       "title\n",
       "Assistant Engineer    48493.20\n",
       "Engineer              48539.78\n",
       "Manager               51531.04\n",
       "Senior Engineer       48506.75\n",
       "Senior Staff          58503.29\n",
       "Staff                 58465.27\n",
       "Technique Leader      48580.51\n",
       "Name: salary, dtype: float64"
      ]
     },
     "execution_count": 10,
     "metadata": {},
     "output_type": "execute_result"
    }
   ],
   "source": [
    "data_salaries_ave_df.groupby('title')['salary'].mean().round(2)"
   ]
  },
  {
   "cell_type": "markdown",
   "metadata": {},
   "source": [
    "***The chart shows there are uneven distribution of salaries based on the  title.  The result will be  recommended for  more research to drill down  the truth. Somehow  they started  in different time period. Perhaps if we could   group this by year,  title and salaries, the  output would be  different. The  datasets  need more  cleaning  and  validations. ***"
   ]
  },
  {
   "cell_type": "code",
   "execution_count": 44,
   "metadata": {},
   "outputs": [
    {
     "data": {
      "image/png": "[encoded data removed]",
      "text/plain": [
       "<Figure size 432x288 with 1 Axes>"
      ]
     },
     "metadata": {
      "needs_background": "light"
     },
     "output_type": "display_data"
    }
   ],
   "source": [
    "# libraries\n",
    "import numpy as np\n",
    "import matplotlib.pyplot as plt\n",
    " \n",
    "# Fake dataset\n",
    "\n",
    "#bars = ('Assist Enginner', 'Enginner', 'Manager', 'Sr Engineer', 'Sr. Staff','Staff','Tech Leader')\n",
    "\n",
    "data_salaries_ave_df.groupby('title')['salary'].mean().round(2).plot(kind='bar',stacked=True,colormap='PiYG')\n",
    "\n",
    "plt.show()\n"
   ]
  },
  {
   "cell_type": "code",
   "execution_count": null,
   "metadata": {},
   "outputs": [],
   "source": []
  },
  {
   "cell_type": "code",
   "execution_count": null,
   "metadata": {},
   "outputs": [],
   "source": []
  },
  {
   "cell_type": "code",
   "execution_count": null,
   "metadata": {},
   "outputs": [],
   "source": []
  }
 ],
 "metadata": {
  "kernelspec": {
   "display_name": "Python [conda env:PythonData] *",
   "language": "python",
   "name": "conda-env-PythonData-py"
  },
  "language_info": {
   "codemirror_mode": {
    "name": "ipython",
    "version": 3
   },
   "file_extension": ".py",
   "mimetype": "text/x-python",
   "name": "python",
   "nbconvert_exporter": "python",
   "pygments_lexer": "ipython3",
   "version": "3.6.8"
  }
 },
 "nbformat": 4,
 "nbformat_minor": 2
}
